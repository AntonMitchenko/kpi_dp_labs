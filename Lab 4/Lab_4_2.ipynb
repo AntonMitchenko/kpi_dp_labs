{
 "cells": [
  {
   "cell_type": "code",
   "execution_count": 1,
   "id": "ca912305-d816-4b29-84e1-6f135716cf33",
   "metadata": {},
   "outputs": [
    {
     "name": "stdout",
     "output_type": "stream",
     "text": [
      "WARNING:tensorflow:From C:\\Users\\anton\\AppData\\Roaming\\Python\\Python39\\site-packages\\keras\\src\\losses.py:2976: The name tf.losses.sparse_softmax_cross_entropy is deprecated. Please use tf.compat.v1.losses.sparse_softmax_cross_entropy instead.\n",
      "\n",
      "WARNING:tensorflow:From C:\\Users\\anton\\AppData\\Roaming\\Python\\Python39\\site-packages\\keras\\src\\backend.py:1398: The name tf.executing_eagerly_outside_functions is deprecated. Please use tf.compat.v1.executing_eagerly_outside_functions instead.\n",
      "\n",
      "WARNING:tensorflow:From C:\\Users\\anton\\AppData\\Roaming\\Python\\Python39\\site-packages\\keras\\src\\layers\\pooling\\max_pooling2d.py:161: The name tf.nn.max_pool is deprecated. Please use tf.nn.max_pool2d instead.\n",
      "\n"
     ]
    }
   ],
   "source": [
    "import tensorflow as tf\n",
    "from tensorflow.keras.preprocessing.image import ImageDataGenerator\n",
    "from tensorflow.keras.models import Sequential\n",
    "from tensorflow.keras.layers import Dense, Dropout, Activation, Flatten\n",
    "from tensorflow.keras.layers import BatchNormalization\n",
    "from tensorflow.keras.layers import Conv2D, MaxPooling2D\n",
    "from tensorflow.keras.regularizers import l2\n",
    "from tensorflow.keras.optimizers import Adam\n",
    "from keras.callbacks import EarlyStopping, ReduceLROnPlateau, ModelCheckpoint\n",
    "from tensorflow.keras import datasets\n",
    "from keras.utils import to_categorical\n",
    "from keras.models import load_model\n",
    "import numpy as np\n",
    "import os\n",
    "import pandas as pd\n",
    "import matplotlib.pyplot as plt\n",
    "\n",
    "\n",
    "model = load_model('cifar-model.h5')"
   ]
  },
  {
   "cell_type": "code",
   "execution_count": 2,
   "id": "8fc99928-3b7f-4da4-949e-c27678e34339",
   "metadata": {},
   "outputs": [
    {
     "name": "stdout",
     "output_type": "stream",
     "text": [
      "x_train shape =>  (50000, 32, 32, 3)\n",
      "x_test shape =>  (10000, 32, 32, 3)\n",
      "training_labels shape =>  (50000, 1)\n",
      "testing_labels shape =>  (10000, 1)\n"
     ]
    }
   ],
   "source": [
    "(training_images, training_labels), (testing_images, testing_labels) = datasets.cifar10.load_data()\n",
    "training_labels_one_hot = to_categorical(training_labels, num_classes=10)\n",
    "testing_labels_one_hot = to_categorical(testing_labels, num_classes=10)\n",
    "print('x_train shape => ' , training_images.shape)\n",
    "print('x_test shape => ' , testing_images.shape)\n",
    "print('training_labels shape => ' , training_labels.shape)\n",
    "print('testing_labels shape => ' , testing_labels.shape)\n",
    "training_images, testing_images = training_images / 255, testing_images / 255"
   ]
  },
  {
   "cell_type": "code",
   "execution_count": 3,
   "id": "875a9515-e0c9-4b45-bd18-8e22867a18e2",
   "metadata": {},
   "outputs": [],
   "source": [
    "index_to_display = 1  \n",
    "image_to_display = testing_images[index_to_display]\n",
    "label_to_display = testing_labels[index_to_display]"
   ]
  },
  {
   "cell_type": "code",
   "execution_count": 7,
   "id": "a53f8dc3-0249-4316-91da-fceeb73af465",
   "metadata": {},
   "outputs": [
    {
     "data": {
      "text/plain": [
       "array([[[[0.00361399, 0.00361399, 0.00361399],\n",
       "         [0.00355248, 0.00355248, 0.00355248],\n",
       "         [0.00356786, 0.00356786, 0.00356786],\n",
       "         ...,\n",
       "         [0.00358324, 0.00358324, 0.00358324],\n",
       "         [0.00358324, 0.00358324, 0.00358324],\n",
       "         [0.00356786, 0.00356786, 0.00356786]],\n",
       "\n",
       "        [[0.00366013, 0.00366013, 0.00366013],\n",
       "         [0.00361399, 0.00361399, 0.00361399],\n",
       "         [0.00361399, 0.00361399, 0.00361399],\n",
       "         ...,\n",
       "         [0.00362937, 0.00362937, 0.00362937],\n",
       "         [0.00362937, 0.00362937, 0.00362937],\n",
       "         [0.00361399, 0.00361399, 0.00361399]],\n",
       "\n",
       "        [[0.00364475, 0.00364475, 0.00364475],\n",
       "         [0.00359862, 0.00359862, 0.00359862],\n",
       "         [0.00359862, 0.00359862, 0.00359862],\n",
       "         ...,\n",
       "         [0.00361399, 0.00361399, 0.00361399],\n",
       "         [0.00361399, 0.00361399, 0.00361399],\n",
       "         [0.00359862, 0.00359862, 0.00359862]],\n",
       "\n",
       "        ...,\n",
       "\n",
       "        [[0.00133795, 0.00152249, 0.0013687 ],\n",
       "         [0.00066128, 0.00078431, 0.00056901],\n",
       "         [0.0002922 , 0.00035371, 0.00016917],\n",
       "         ...,\n",
       "         [0.002599  , 0.00282968, 0.00275279],\n",
       "         [0.00279892, 0.0030296 , 0.00296809],\n",
       "         [0.0028912 , 0.0031065 , 0.00309112]],\n",
       "\n",
       "        [[0.00126105, 0.00147636, 0.00126105],\n",
       "         [0.00070742, 0.00087659, 0.00055363],\n",
       "         [0.00055363, 0.00067666, 0.00033833],\n",
       "         ...,\n",
       "         [0.00267589, 0.00290657, 0.0028143 ],\n",
       "         [0.00284506, 0.00307574, 0.00301423],\n",
       "         [0.00287582, 0.0031065 , 0.00307574]],\n",
       "\n",
       "        [[0.00130719, 0.00155325, 0.00127643],\n",
       "         [0.00095348, 0.0011534 , 0.00073818],\n",
       "         [0.00089196, 0.00103037, 0.00058439],\n",
       "         ...,\n",
       "         [0.00258362, 0.0028143 , 0.00273741],\n",
       "         [0.00276817, 0.00299885, 0.00293733],\n",
       "         [0.00286044, 0.00307574, 0.00306036]]]])"
      ]
     },
     "execution_count": 7,
     "metadata": {},
     "output_type": "execute_result"
    }
   ],
   "source": [
    "image_to_display"
   ]
  },
  {
   "cell_type": "code",
   "execution_count": 4,
   "id": "846c69a3-07e2-4a8c-8d77-5ee7fffb2e6f",
   "metadata": {},
   "outputs": [],
   "source": [
    "image_to_display = image_to_display / 255.0  \n",
    "\n",
    "image_to_display = np.reshape(image_to_display, (1, 32, 32, 3)) "
   ]
  },
  {
   "cell_type": "code",
   "execution_count": 5,
   "id": "75a61ab5-ee98-4b1b-8ab5-e3c9041a8cc0",
   "metadata": {},
   "outputs": [
    {
     "name": "stdout",
     "output_type": "stream",
     "text": [
      "1/1 [==============================] - 0s 447ms/step\n"
     ]
    }
   ],
   "source": [
    "predictions = model.predict(image_to_display)\n",
    "predicted_label = np.argmax(predictions)"
   ]
  },
  {
   "cell_type": "code",
   "execution_count": 6,
   "id": "684029b6-782f-4d68-ac81-f0a1cf38e612",
   "metadata": {},
   "outputs": [
    {
     "data": {
      "image/png": "[encoded data removed]",
      "text/plain": [
       "<Figure size 640x480 with 1 Axes>"
      ]
     },
     "metadata": {},
     "output_type": "display_data"
    }
   ],
   "source": [
    "plt.imshow(testing_images[index_to_display])\n",
    "plt.title(f\"True Label: {label_to_display}, Predicted Label: {predicted_label}\")\n",
    "plt.show()"
   ]
  },
  {
   "cell_type": "code",
   "execution_count": null,
   "id": "fdef0336-4641-468c-944b-4e42ca9e2b51",
   "metadata": {},
   "outputs": [],
   "source": []
  }
 ],
 "metadata": {
  "kernelspec": {
   "display_name": "Python 3 (ipykernel)",
   "language": "python",
   "name": "python3"
  },
  "language_info": {
   "codemirror_mode": {
    "name": "ipython",
    "version": 3
   },
   "file_extension": ".py",
   "mimetype": "text/x-python",
   "name": "python",
   "nbconvert_exporter": "python",
   "pygments_lexer": "ipython3",
   "version": "3.9.18"
  }
 },
 "nbformat": 4,
 "nbformat_minor": 5
}
