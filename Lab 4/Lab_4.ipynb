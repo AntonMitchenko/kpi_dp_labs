{
 "cells": [
  {
   "cell_type": "code",
   "execution_count": 13,
   "id": "717b4f64-98d0-4270-9705-526012708d0b",
   "metadata": {},
   "outputs": [],
   "source": [
    "import tensorflow as tf\n",
    "from tensorflow.keras.preprocessing.image import ImageDataGenerator\n",
    "from tensorflow.keras.models import Sequential\n",
    "from tensorflow.keras.layers import Dense, Dropout, Activation, Flatten\n",
    "from tensorflow.keras.layers import BatchNormalization\n",
    "from tensorflow.keras.layers import Conv2D, MaxPooling2D\n",
    "from tensorflow.keras.regularizers import l2\n",
    "from tensorflow.keras.optimizers import Adam\n",
    "from keras.callbacks import EarlyStopping, ReduceLROnPlateau, ModelCheckpoint\n",
    "from tensorflow.keras import datasets\n",
    "from keras.utils import to_categorical\n",
    "from keras.models import load_model\n",
    "import numpy as np\n",
    "import os\n",
    "import pandas as pd\n",
    "import matplotlib.pyplot as plt"
   ]
  },
  {
   "cell_type": "code",
   "execution_count": 4,
   "id": "a602306d-5e5e-477d-93a0-f07da0f31137",
   "metadata": {},
   "outputs": [
    {
     "name": "stdout",
     "output_type": "stream",
     "text": [
      "Downloading data from https://www.cs.toronto.edu/~kriz/cifar-10-python.tar.gz\n",
      "170498071/170498071 [==============================] - 134s 1us/step\n",
      "x_train shape =>  (50000, 32, 32, 3)\n",
      "x_test shape =>  (10000, 32, 32, 3)\n",
      "training_labels shape =>  (50000, 1)\n",
      "testing_labels shape =>  (10000, 1)\n"
     ]
    }
   ],
   "source": [
    "# Load training data\n",
    "(training_images, training_labels), (testing_images, testing_labels) = datasets.cifar10.load_data()\n",
    "# One-hot encode the labels\n",
    "training_labels_one_hot = to_categorical(training_labels, num_classes=10)\n",
    "testing_labels_one_hot = to_categorical(testing_labels, num_classes=10)\n",
    "print('x_train shape => ' , training_images.shape)\n",
    "print('x_test shape => ' , testing_images.shape)\n",
    "print('training_labels shape => ' , training_labels.shape)\n",
    "print('testing_labels shape => ' , testing_labels.shape)\n",
    "training_images, testing_images = training_images / 255, testing_images / 255\n",
    "\n",
    "test_files = ['/kaggle/input/cifar-10/test/' + str(i) + '.png' for i in range(1, 300001)]"
   ]
  },
  {
   "cell_type": "code",
   "execution_count": 8,
   "id": "fe59c203-b364-443e-a227-d1b16e8212ce",
   "metadata": {},
   "outputs": [],
   "source": [
    "model = tf.keras.models.Sequential([\n",
    "    tf.keras.layers.Conv2D(32, (3,3), activation='relu', input_shape=(32, 32, 3)),\n",
    "    tf.keras.layers.MaxPooling2D(2, 2),\n",
    "    tf.keras.layers.Conv2D(64, (3,3), activation='relu'),\n",
    "    tf.keras.layers.MaxPooling2D(2,2),\n",
    "    tf.keras.layers.Flatten(),\n",
    "    tf.keras.layers.Dense(512, activation='relu'),\n",
    "    tf.keras.layers.Dense(10, activation='softmax')\n",
    "])"
   ]
  },
  {
   "cell_type": "code",
   "execution_count": 9,
   "id": "6ae5e6b5-e404-4d15-ab7c-4f6497237d80",
   "metadata": {},
   "outputs": [
    {
     "name": "stdout",
     "output_type": "stream",
     "text": [
      "Epoch 1/10\n",
      "WARNING:tensorflow:From C:\\Users\\anton\\AppData\\Roaming\\Python\\Python39\\site-packages\\keras\\src\\utils\\tf_utils.py:492: The name tf.ragged.RaggedTensorValue is deprecated. Please use tf.compat.v1.ragged.RaggedTensorValue instead.\n",
      "\n",
      "WARNING:tensorflow:From C:\\Users\\anton\\AppData\\Roaming\\Python\\Python39\\site-packages\\keras\\src\\engine\\base_layer_utils.py:384: The name tf.executing_eagerly_outside_functions is deprecated. Please use tf.compat.v1.executing_eagerly_outside_functions instead.\n",
      "\n",
      "782/782 [==============================] - 28s 33ms/step - loss: 1.4101 - accuracy: 0.4959 - val_loss: 1.1772 - val_accuracy: 0.5898\n",
      "Epoch 2/10\n",
      "782/782 [==============================] - 25s 31ms/step - loss: 1.0478 - accuracy: 0.6326 - val_loss: 0.9978 - val_accuracy: 0.6499\n",
      "Epoch 3/10\n",
      "782/782 [==============================] - 26s 34ms/step - loss: 0.8890 - accuracy: 0.6927 - val_loss: 0.9175 - val_accuracy: 0.6841\n",
      "Epoch 4/10\n",
      "782/782 [==============================] - 27s 34ms/step - loss: 0.7577 - accuracy: 0.7360 - val_loss: 0.8526 - val_accuracy: 0.7077\n",
      "Epoch 5/10\n",
      "782/782 [==============================] - 26s 34ms/step - loss: 0.6518 - accuracy: 0.7734 - val_loss: 0.9131 - val_accuracy: 0.6911\n",
      "Epoch 6/10\n",
      "782/782 [==============================] - 26s 33ms/step - loss: 0.5358 - accuracy: 0.8147 - val_loss: 0.8949 - val_accuracy: 0.7151\n",
      "Epoch 7/10\n",
      "782/782 [==============================] - 26s 33ms/step - loss: 0.4288 - accuracy: 0.8533 - val_loss: 0.9507 - val_accuracy: 0.7092\n",
      "Epoch 8/10\n",
      "782/782 [==============================] - 27s 34ms/step - loss: 0.3313 - accuracy: 0.8868 - val_loss: 0.9906 - val_accuracy: 0.7081\n",
      "Epoch 9/10\n",
      "782/782 [==============================] - 27s 34ms/step - loss: 0.2461 - accuracy: 0.9168 - val_loss: 1.1649 - val_accuracy: 0.6970\n",
      "Epoch 10/10\n",
      "782/782 [==============================] - 26s 33ms/step - loss: 0.1822 - accuracy: 0.9382 - val_loss: 1.2509 - val_accuracy: 0.7010\n"
     ]
    },
    {
     "data": {
      "text/plain": [
       "<keras.src.callbacks.History at 0x20fe01d4a30>"
      ]
     },
     "execution_count": 9,
     "metadata": {},
     "output_type": "execute_result"
    }
   ],
   "source": [
    "#Train the model\n",
    "\n",
    "model.compile(optimizer=Adam(learning_rate=0.001), \n",
    "            loss='categorical_crossentropy',\n",
    "            metrics=['accuracy'])\n",
    "model.fit(training_images, \n",
    "          training_labels_one_hot, \n",
    "          epochs=10, \n",
    "          batch_size=64, \n",
    "          validation_data=(testing_images, testing_labels_one_hot))"
   ]
  },
  {
   "cell_type": "code",
   "execution_count": 10,
   "id": "3683e311-374a-49a3-a1de-2e0671cc0d2b",
   "metadata": {},
   "outputs": [
    {
     "name": "stderr",
     "output_type": "stream",
     "text": [
      "C:\\Users\\anton\\AppData\\Roaming\\Python\\Python39\\site-packages\\keras\\src\\engine\\training.py:3103: UserWarning: You are saving your model as an HDF5 file via `model.save()`. This file format is considered legacy. We recommend using instead the native Keras format, e.g. `model.save('my_model.keras')`.\n",
      "  saving_api.save_model(\n"
     ]
    }
   ],
   "source": [
    "model.save(\"cifar-model.h5\")"
   ]
  }
 ],
 "metadata": {
  "kernelspec": {
   "display_name": "Python 3 (ipykernel)",
   "language": "python",
   "name": "python3"
  },
  "language_info": {
   "codemirror_mode": {
    "name": "ipython",
    "version": 3
   },
   "file_extension": ".py",
   "mimetype": "text/x-python",
   "name": "python",
   "nbconvert_exporter": "python",
   "pygments_lexer": "ipython3",
   "version": "3.9.18"
  }
 },
 "nbformat": 4,
 "nbformat_minor": 5
}
