{
 "cells": [
  {
   "cell_type": "markdown",
   "id": "cdaa872b",
   "metadata": {},
   "source": [
    "## **Завдання 1**\n",
    "Розробити програмне забезпечення для реалізації мережі PNN, що призначена для апроксимації функції у=х1+х2. Передбачити режими навчання та розпізнавання."
   ]
  },
  {
   "cell_type": "code",
   "execution_count": 1,
   "id": "9fb0d009",
   "metadata": {},
   "outputs": [],
   "source": [
    "# Імпорт нампая для створення масиву\n",
    "import numpy as np"
   ]
  },
  {
   "cell_type": "code",
   "execution_count": 2,
   "id": "ee8e35d9",
   "metadata": {},
   "outputs": [],
   "source": [
    "# Створюємо функцію яка розраховує вхідний сигнал для нейронів шару додавання.\n",
    "def gaussian_kernel(x, data_point):\n",
    "    squared_diff = np.sum((x - data_point) ** 2)\n",
    "    return np.exp(-squared_diff / (2 * sigma ** 2))"
   ]
  },
  {
   "cell_type": "code",
   "execution_count": 3,
   "id": "ee621034",
   "metadata": {},
   "outputs": [],
   "source": [
    "# Тренуємо на навчальній вибірці.\n",
    "def predict(x):\n",
    "    class_sums = [0] * (max(y_train) + 1)\n",
    "\n",
    "    for i in range(len(X_train)):\n",
    "        kernel_value = gaussian_kernel(x, X_train[i])\n",
    "        class_sums[y_train[i]] += kernel_value\n",
    "\n",
    "    predicted_class = np.argmax(class_sums)\n",
    "    return predicted_class"
   ]
  },
  {
   "cell_type": "code",
   "execution_count": 5,
   "id": "728e659c",
   "metadata": {},
   "outputs": [
    {
     "name": "stdout",
     "output_type": "stream",
     "text": [
      "For input [2 2], PNN predicts y = 4\n",
      "For input [3 3], PNN predicts y = 6\n"
     ]
    }
   ],
   "source": [
    "# Я обрав сігму за 1 для спрощення розрахунків, але можна булоб обрати сігму за 0.1.\n",
    "sigma = 1.0\n",
    "\n",
    "X_train = np.array([[1, 3], [3, 3], [3, 4], [4, 5]])\n",
    "y_train = np.array([4, 6, 7, 9])\n",
    "X_test = np.array([[2, 2], [3, 3]])\n",
    "\n",
    "for x in X_test:\n",
    "    predicted_class = predict(x)\n",
    "    print(f\"For input {x}, PNN predicts y = {predicted_class}\")"
   ]
  }
 ],
 "metadata": {
  "kernelspec": {
   "display_name": "Python 3 (ipykernel)",
   "language": "python",
   "name": "python3"
  },
  "language_info": {
   "codemirror_mode": {
    "name": "ipython",
    "version": 3
   },
   "file_extension": ".py",
   "mimetype": "text/x-python",
   "name": "python",
   "nbconvert_exporter": "python",
   "pygments_lexer": "ipython3",
   "version": "3.9.13"
  }
 },
 "nbformat": 4,
 "nbformat_minor": 5
}
